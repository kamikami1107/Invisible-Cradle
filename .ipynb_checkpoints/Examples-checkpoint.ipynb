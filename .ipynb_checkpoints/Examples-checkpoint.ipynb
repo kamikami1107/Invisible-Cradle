{
 "cells": [
  {
   "cell_type": "markdown",
   "metadata": {},
   "source": [
    "# Computing saliency masks with the PAIRML saliency library (for TF2 and other frameworks)"
   ]
  },
  {
   "cell_type": "markdown",
   "metadata": {},
   "source": [
    "- [XRAI paper](https://arxiv.org/abs/1906.02825)\n"
   ]
  },
  {
   "cell_type": "markdown",
   "metadata": {},
   "source": [
    "This notebook assumes you have the saliency pip package installed. To install run (use pip3 for python 3.x):\n",
    "\n",
    "pip install saliency"
   ]
  },
  {
   "cell_type": "code",
   "execution_count": 1,
   "metadata": {
    "ExecuteTime": {
     "end_time": "2021-04-21T15:43:59.915696Z",
     "start_time": "2021-04-21T15:43:57.429738Z"
    }
   },
   "outputs": [
    {
     "name": "stdout",
     "output_type": "stream",
     "text": [
      "Requirement already satisfied: saliency in /Users/SHOTA/.pyenv/versions/anaconda3-5.3.1/lib/python3.7/site-packages (0.0.5)\n",
      "Requirement already satisfied: numpy in /Users/SHOTA/.pyenv/versions/anaconda3-5.3.1/lib/python3.7/site-packages (from saliency) (1.19.5)\n",
      "Requirement already satisfied: tensorflow in /Users/SHOTA/.pyenv/versions/anaconda3-5.3.1/lib/python3.7/site-packages (from saliency) (2.4.0)\n",
      "Requirement already satisfied: opt-einsum~=3.3.0 in /Users/SHOTA/.pyenv/versions/anaconda3-5.3.1/lib/python3.7/site-packages (from tensorflow->saliency) (3.3.0)\n",
      "Requirement already satisfied: six~=1.15.0 in /Users/SHOTA/.pyenv/versions/anaconda3-5.3.1/lib/python3.7/site-packages (from tensorflow->saliency) (1.15.0)\n",
      "Requirement already satisfied: typing-extensions~=3.7.4 in /Users/SHOTA/.pyenv/versions/anaconda3-5.3.1/lib/python3.7/site-packages (from tensorflow->saliency) (3.7.4.3)\n",
      "Requirement already satisfied: flatbuffers~=1.12.0 in /Users/SHOTA/.pyenv/versions/anaconda3-5.3.1/lib/python3.7/site-packages (from tensorflow->saliency) (1.12)\n",
      "Requirement already satisfied: wrapt~=1.12.1 in /Users/SHOTA/.pyenv/versions/anaconda3-5.3.1/lib/python3.7/site-packages (from tensorflow->saliency) (1.12.1)\n",
      "Requirement already satisfied: grpcio~=1.32.0 in /Users/SHOTA/.pyenv/versions/anaconda3-5.3.1/lib/python3.7/site-packages (from tensorflow->saliency) (1.32.0)\n",
      "Requirement already satisfied: wheel~=0.35 in /Users/SHOTA/.pyenv/versions/anaconda3-5.3.1/lib/python3.7/site-packages (from tensorflow->saliency) (0.35.1)\n",
      "Requirement already satisfied: tensorflow-estimator<2.5.0,>=2.4.0rc0 in /Users/SHOTA/.pyenv/versions/anaconda3-5.3.1/lib/python3.7/site-packages (from tensorflow->saliency) (2.4.0)\n",
      "Requirement already satisfied: gast==0.3.3 in /Users/SHOTA/.pyenv/versions/anaconda3-5.3.1/lib/python3.7/site-packages (from tensorflow->saliency) (0.3.3)\n",
      "Requirement already satisfied: termcolor~=1.1.0 in /Users/SHOTA/.pyenv/versions/anaconda3-5.3.1/lib/python3.7/site-packages (from tensorflow->saliency) (1.1.0)\n",
      "Requirement already satisfied: astunparse~=1.6.3 in /Users/SHOTA/.pyenv/versions/anaconda3-5.3.1/lib/python3.7/site-packages (from tensorflow->saliency) (1.6.3)\n",
      "Requirement already satisfied: absl-py~=0.10 in /Users/SHOTA/.pyenv/versions/anaconda3-5.3.1/lib/python3.7/site-packages (from tensorflow->saliency) (0.11.0)\n",
      "Requirement already satisfied: protobuf>=3.9.2 in /Users/SHOTA/.pyenv/versions/anaconda3-5.3.1/lib/python3.7/site-packages (from tensorflow->saliency) (3.13.0)\n",
      "Requirement already satisfied: tensorboard~=2.4 in /Users/SHOTA/.pyenv/versions/anaconda3-5.3.1/lib/python3.7/site-packages (from tensorflow->saliency) (2.4.1)\n",
      "Requirement already satisfied: keras-preprocessing~=1.1.2 in /Users/SHOTA/.pyenv/versions/anaconda3-5.3.1/lib/python3.7/site-packages (from tensorflow->saliency) (1.1.2)\n",
      "Requirement already satisfied: h5py~=2.10.0 in /Users/SHOTA/.pyenv/versions/anaconda3-5.3.1/lib/python3.7/site-packages (from tensorflow->saliency) (2.10.0)\n",
      "Requirement already satisfied: google-pasta~=0.2 in /Users/SHOTA/.pyenv/versions/anaconda3-5.3.1/lib/python3.7/site-packages (from tensorflow->saliency) (0.2.0)\n",
      "Requirement already satisfied: setuptools in /Users/SHOTA/.pyenv/versions/anaconda3-5.3.1/lib/python3.7/site-packages (from protobuf>=3.9.2->tensorflow->saliency) (50.3.0.post20201006)\n",
      "Requirement already satisfied: markdown>=2.6.8 in /Users/SHOTA/.pyenv/versions/anaconda3-5.3.1/lib/python3.7/site-packages (from tensorboard~=2.4->tensorflow->saliency) (3.3.3)\n",
      "Requirement already satisfied: google-auth-oauthlib<0.5,>=0.4.1 in /Users/SHOTA/.pyenv/versions/anaconda3-5.3.1/lib/python3.7/site-packages (from tensorboard~=2.4->tensorflow->saliency) (0.4.2)\n",
      "Requirement already satisfied: werkzeug>=0.11.15 in /Users/SHOTA/.pyenv/versions/anaconda3-5.3.1/lib/python3.7/site-packages (from tensorboard~=2.4->tensorflow->saliency) (1.0.1)\n",
      "Requirement already satisfied: tensorboard-plugin-wit>=1.6.0 in /Users/SHOTA/.pyenv/versions/anaconda3-5.3.1/lib/python3.7/site-packages (from tensorboard~=2.4->tensorflow->saliency) (1.7.0)\n",
      "Requirement already satisfied: google-auth<2,>=1.6.3 in /Users/SHOTA/.pyenv/versions/anaconda3-5.3.1/lib/python3.7/site-packages (from tensorboard~=2.4->tensorflow->saliency) (1.23.0)\n",
      "Requirement already satisfied: requests<3,>=2.21.0 in /Users/SHOTA/.pyenv/versions/anaconda3-5.3.1/lib/python3.7/site-packages (from tensorboard~=2.4->tensorflow->saliency) (2.24.0)\n",
      "Requirement already satisfied: rsa<5,>=3.1.4 in /Users/SHOTA/.pyenv/versions/anaconda3-5.3.1/lib/python3.7/site-packages (from google-auth<2,>=1.6.3->tensorboard~=2.4->tensorflow->saliency) (4.6)\n",
      "Requirement already satisfied: cachetools<5.0,>=2.0.0 in /Users/SHOTA/.pyenv/versions/anaconda3-5.3.1/lib/python3.7/site-packages (from google-auth<2,>=1.6.3->tensorboard~=2.4->tensorflow->saliency) (4.1.1)\n",
      "Requirement already satisfied: pyasn1-modules>=0.2.1 in /Users/SHOTA/.pyenv/versions/anaconda3-5.3.1/lib/python3.7/site-packages (from google-auth<2,>=1.6.3->tensorboard~=2.4->tensorflow->saliency) (0.2.8)\n",
      "Requirement already satisfied: requests-oauthlib>=0.7.0 in /Users/SHOTA/.pyenv/versions/anaconda3-5.3.1/lib/python3.7/site-packages (from google-auth-oauthlib<0.5,>=0.4.1->tensorboard~=2.4->tensorflow->saliency) (1.3.0)\n",
      "Requirement already satisfied: importlib-metadata in /Users/SHOTA/.pyenv/versions/anaconda3-5.3.1/lib/python3.7/site-packages (from markdown>=2.6.8->tensorboard~=2.4->tensorflow->saliency) (2.0.0)\n",
      "Requirement already satisfied: pyasn1<0.5.0,>=0.4.6 in /Users/SHOTA/.pyenv/versions/anaconda3-5.3.1/lib/python3.7/site-packages (from pyasn1-modules>=0.2.1->google-auth<2,>=1.6.3->tensorboard~=2.4->tensorflow->saliency) (0.4.8)\n",
      "Requirement already satisfied: certifi>=2017.4.17 in /Users/SHOTA/.pyenv/versions/anaconda3-5.3.1/lib/python3.7/site-packages (from requests<3,>=2.21.0->tensorboard~=2.4->tensorflow->saliency) (2020.11.8)\n",
      "Requirement already satisfied: chardet<4,>=3.0.2 in /Users/SHOTA/.pyenv/versions/anaconda3-5.3.1/lib/python3.7/site-packages (from requests<3,>=2.21.0->tensorboard~=2.4->tensorflow->saliency) (3.0.4)\n",
      "Requirement already satisfied: urllib3!=1.25.0,!=1.25.1,<1.26,>=1.21.1 in /Users/SHOTA/.pyenv/versions/anaconda3-5.3.1/lib/python3.7/site-packages (from requests<3,>=2.21.0->tensorboard~=2.4->tensorflow->saliency) (1.25.10)\n",
      "Requirement already satisfied: idna<3,>=2.5 in /Users/SHOTA/.pyenv/versions/anaconda3-5.3.1/lib/python3.7/site-packages (from requests<3,>=2.21.0->tensorboard~=2.4->tensorflow->saliency) (2.10)\n",
      "Requirement already satisfied: oauthlib>=3.0.0 in /Users/SHOTA/.pyenv/versions/anaconda3-5.3.1/lib/python3.7/site-packages (from requests-oauthlib>=0.7.0->google-auth-oauthlib<0.5,>=0.4.1->tensorboard~=2.4->tensorflow->saliency) (3.1.0)\n",
      "Requirement already satisfied: zipp>=0.5 in /Users/SHOTA/.pyenv/versions/anaconda3-5.3.1/lib/python3.7/site-packages (from importlib-metadata->markdown>=2.6.8->tensorboard~=2.4->tensorflow->saliency) (3.3.0)\n",
      "Note: you may need to restart the kernel to use updated packages.\n"
     ]
    }
   ],
   "source": [
    "pip install saliency"
   ]
  },
  {
   "cell_type": "code",
   "execution_count": 2,
   "metadata": {
    "ExecuteTime": {
     "end_time": "2021-04-21T15:44:05.125758Z",
     "start_time": "2021-04-21T15:44:03.182192Z"
    }
   },
   "outputs": [
    {
     "name": "stdout",
     "output_type": "stream",
     "text": [
      "Requirement already satisfied: saliency[tf1] in /Users/SHOTA/.pyenv/versions/anaconda3-5.3.1/lib/python3.7/site-packages (0.0.5)\n",
      "\u001b[33mWARNING: saliency 0.0.5 does not provide the extra 'tf1'\u001b[0m\n",
      "Requirement already satisfied: tensorflow in /Users/SHOTA/.pyenv/versions/anaconda3-5.3.1/lib/python3.7/site-packages (from saliency[tf1]) (2.4.0)\n",
      "Requirement already satisfied: numpy in /Users/SHOTA/.pyenv/versions/anaconda3-5.3.1/lib/python3.7/site-packages (from saliency[tf1]) (1.19.5)\n",
      "Requirement already satisfied: absl-py~=0.10 in /Users/SHOTA/.pyenv/versions/anaconda3-5.3.1/lib/python3.7/site-packages (from tensorflow->saliency[tf1]) (0.11.0)\n",
      "Requirement already satisfied: opt-einsum~=3.3.0 in /Users/SHOTA/.pyenv/versions/anaconda3-5.3.1/lib/python3.7/site-packages (from tensorflow->saliency[tf1]) (3.3.0)\n",
      "Requirement already satisfied: protobuf>=3.9.2 in /Users/SHOTA/.pyenv/versions/anaconda3-5.3.1/lib/python3.7/site-packages (from tensorflow->saliency[tf1]) (3.13.0)\n",
      "Requirement already satisfied: keras-preprocessing~=1.1.2 in /Users/SHOTA/.pyenv/versions/anaconda3-5.3.1/lib/python3.7/site-packages (from tensorflow->saliency[tf1]) (1.1.2)\n",
      "Requirement already satisfied: tensorboard~=2.4 in /Users/SHOTA/.pyenv/versions/anaconda3-5.3.1/lib/python3.7/site-packages (from tensorflow->saliency[tf1]) (2.4.1)\n",
      "Requirement already satisfied: gast==0.3.3 in /Users/SHOTA/.pyenv/versions/anaconda3-5.3.1/lib/python3.7/site-packages (from tensorflow->saliency[tf1]) (0.3.3)\n",
      "Requirement already satisfied: astunparse~=1.6.3 in /Users/SHOTA/.pyenv/versions/anaconda3-5.3.1/lib/python3.7/site-packages (from tensorflow->saliency[tf1]) (1.6.3)\n",
      "Requirement already satisfied: flatbuffers~=1.12.0 in /Users/SHOTA/.pyenv/versions/anaconda3-5.3.1/lib/python3.7/site-packages (from tensorflow->saliency[tf1]) (1.12)\n",
      "Requirement already satisfied: google-pasta~=0.2 in /Users/SHOTA/.pyenv/versions/anaconda3-5.3.1/lib/python3.7/site-packages (from tensorflow->saliency[tf1]) (0.2.0)\n",
      "Requirement already satisfied: six~=1.15.0 in /Users/SHOTA/.pyenv/versions/anaconda3-5.3.1/lib/python3.7/site-packages (from tensorflow->saliency[tf1]) (1.15.0)\n",
      "Requirement already satisfied: termcolor~=1.1.0 in /Users/SHOTA/.pyenv/versions/anaconda3-5.3.1/lib/python3.7/site-packages (from tensorflow->saliency[tf1]) (1.1.0)\n",
      "Requirement already satisfied: tensorflow-estimator<2.5.0,>=2.4.0rc0 in /Users/SHOTA/.pyenv/versions/anaconda3-5.3.1/lib/python3.7/site-packages (from tensorflow->saliency[tf1]) (2.4.0)\n",
      "Requirement already satisfied: h5py~=2.10.0 in /Users/SHOTA/.pyenv/versions/anaconda3-5.3.1/lib/python3.7/site-packages (from tensorflow->saliency[tf1]) (2.10.0)\n",
      "Requirement already satisfied: typing-extensions~=3.7.4 in /Users/SHOTA/.pyenv/versions/anaconda3-5.3.1/lib/python3.7/site-packages (from tensorflow->saliency[tf1]) (3.7.4.3)\n",
      "Requirement already satisfied: wrapt~=1.12.1 in /Users/SHOTA/.pyenv/versions/anaconda3-5.3.1/lib/python3.7/site-packages (from tensorflow->saliency[tf1]) (1.12.1)\n",
      "Requirement already satisfied: wheel~=0.35 in /Users/SHOTA/.pyenv/versions/anaconda3-5.3.1/lib/python3.7/site-packages (from tensorflow->saliency[tf1]) (0.35.1)\n",
      "Requirement already satisfied: grpcio~=1.32.0 in /Users/SHOTA/.pyenv/versions/anaconda3-5.3.1/lib/python3.7/site-packages (from tensorflow->saliency[tf1]) (1.32.0)\n",
      "Requirement already satisfied: setuptools in /Users/SHOTA/.pyenv/versions/anaconda3-5.3.1/lib/python3.7/site-packages (from protobuf>=3.9.2->tensorflow->saliency[tf1]) (50.3.0.post20201006)\n",
      "Requirement already satisfied: requests<3,>=2.21.0 in /Users/SHOTA/.pyenv/versions/anaconda3-5.3.1/lib/python3.7/site-packages (from tensorboard~=2.4->tensorflow->saliency[tf1]) (2.24.0)\n",
      "Requirement already satisfied: markdown>=2.6.8 in /Users/SHOTA/.pyenv/versions/anaconda3-5.3.1/lib/python3.7/site-packages (from tensorboard~=2.4->tensorflow->saliency[tf1]) (3.3.3)\n",
      "Requirement already satisfied: google-auth<2,>=1.6.3 in /Users/SHOTA/.pyenv/versions/anaconda3-5.3.1/lib/python3.7/site-packages (from tensorboard~=2.4->tensorflow->saliency[tf1]) (1.23.0)\n",
      "Requirement already satisfied: werkzeug>=0.11.15 in /Users/SHOTA/.pyenv/versions/anaconda3-5.3.1/lib/python3.7/site-packages (from tensorboard~=2.4->tensorflow->saliency[tf1]) (1.0.1)\n",
      "Requirement already satisfied: tensorboard-plugin-wit>=1.6.0 in /Users/SHOTA/.pyenv/versions/anaconda3-5.3.1/lib/python3.7/site-packages (from tensorboard~=2.4->tensorflow->saliency[tf1]) (1.7.0)\n",
      "Requirement already satisfied: google-auth-oauthlib<0.5,>=0.4.1 in /Users/SHOTA/.pyenv/versions/anaconda3-5.3.1/lib/python3.7/site-packages (from tensorboard~=2.4->tensorflow->saliency[tf1]) (0.4.2)\n",
      "Requirement already satisfied: rsa<5,>=3.1.4 in /Users/SHOTA/.pyenv/versions/anaconda3-5.3.1/lib/python3.7/site-packages (from google-auth<2,>=1.6.3->tensorboard~=2.4->tensorflow->saliency[tf1]) (4.6)\n",
      "Requirement already satisfied: cachetools<5.0,>=2.0.0 in /Users/SHOTA/.pyenv/versions/anaconda3-5.3.1/lib/python3.7/site-packages (from google-auth<2,>=1.6.3->tensorboard~=2.4->tensorflow->saliency[tf1]) (4.1.1)\n",
      "Requirement already satisfied: pyasn1-modules>=0.2.1 in /Users/SHOTA/.pyenv/versions/anaconda3-5.3.1/lib/python3.7/site-packages (from google-auth<2,>=1.6.3->tensorboard~=2.4->tensorflow->saliency[tf1]) (0.2.8)\n",
      "Requirement already satisfied: requests-oauthlib>=0.7.0 in /Users/SHOTA/.pyenv/versions/anaconda3-5.3.1/lib/python3.7/site-packages (from google-auth-oauthlib<0.5,>=0.4.1->tensorboard~=2.4->tensorflow->saliency[tf1]) (1.3.0)\n",
      "Requirement already satisfied: importlib-metadata in /Users/SHOTA/.pyenv/versions/anaconda3-5.3.1/lib/python3.7/site-packages (from markdown>=2.6.8->tensorboard~=2.4->tensorflow->saliency[tf1]) (2.0.0)\n",
      "Requirement already satisfied: pyasn1<0.5.0,>=0.4.6 in /Users/SHOTA/.pyenv/versions/anaconda3-5.3.1/lib/python3.7/site-packages (from pyasn1-modules>=0.2.1->google-auth<2,>=1.6.3->tensorboard~=2.4->tensorflow->saliency[tf1]) (0.4.8)\n",
      "Requirement already satisfied: idna<3,>=2.5 in /Users/SHOTA/.pyenv/versions/anaconda3-5.3.1/lib/python3.7/site-packages (from requests<3,>=2.21.0->tensorboard~=2.4->tensorflow->saliency[tf1]) (2.10)\n",
      "Requirement already satisfied: urllib3!=1.25.0,!=1.25.1,<1.26,>=1.21.1 in /Users/SHOTA/.pyenv/versions/anaconda3-5.3.1/lib/python3.7/site-packages (from requests<3,>=2.21.0->tensorboard~=2.4->tensorflow->saliency[tf1]) (1.25.10)\n",
      "Requirement already satisfied: chardet<4,>=3.0.2 in /Users/SHOTA/.pyenv/versions/anaconda3-5.3.1/lib/python3.7/site-packages (from requests<3,>=2.21.0->tensorboard~=2.4->tensorflow->saliency[tf1]) (3.0.4)\n",
      "Requirement already satisfied: certifi>=2017.4.17 in /Users/SHOTA/.pyenv/versions/anaconda3-5.3.1/lib/python3.7/site-packages (from requests<3,>=2.21.0->tensorboard~=2.4->tensorflow->saliency[tf1]) (2020.11.8)\n",
      "Requirement already satisfied: oauthlib>=3.0.0 in /Users/SHOTA/.pyenv/versions/anaconda3-5.3.1/lib/python3.7/site-packages (from requests-oauthlib>=0.7.0->google-auth-oauthlib<0.5,>=0.4.1->tensorboard~=2.4->tensorflow->saliency[tf1]) (3.1.0)\n",
      "Requirement already satisfied: zipp>=0.5 in /Users/SHOTA/.pyenv/versions/anaconda3-5.3.1/lib/python3.7/site-packages (from importlib-metadata->markdown>=2.6.8->tensorboard~=2.4->tensorflow->saliency[tf1]) (3.3.0)\n",
      "Note: you may need to restart the kernel to use updated packages.\n"
     ]
    }
   ],
   "source": [
    "pip install saliency[tf1]"
   ]
  },
  {
   "cell_type": "code",
   "execution_count": 3,
   "metadata": {
    "ExecuteTime": {
     "end_time": "2021-04-21T15:44:26.370533Z",
     "start_time": "2021-04-21T15:44:24.450586Z"
    }
   },
   "outputs": [
    {
     "name": "stdout",
     "output_type": "stream",
     "text": [
      "Requirement already satisfied: tensorflow==2.4.0 in /Users/SHOTA/.pyenv/versions/anaconda3-5.3.1/lib/python3.7/site-packages (2.4.0)\n",
      "Requirement already satisfied: tensorboard~=2.4 in /Users/SHOTA/.pyenv/versions/anaconda3-5.3.1/lib/python3.7/site-packages (from tensorflow==2.4.0) (2.4.1)\n",
      "Requirement already satisfied: gast==0.3.3 in /Users/SHOTA/.pyenv/versions/anaconda3-5.3.1/lib/python3.7/site-packages (from tensorflow==2.4.0) (0.3.3)\n",
      "Requirement already satisfied: wrapt~=1.12.1 in /Users/SHOTA/.pyenv/versions/anaconda3-5.3.1/lib/python3.7/site-packages (from tensorflow==2.4.0) (1.12.1)\n",
      "Requirement already satisfied: termcolor~=1.1.0 in /Users/SHOTA/.pyenv/versions/anaconda3-5.3.1/lib/python3.7/site-packages (from tensorflow==2.4.0) (1.1.0)\n",
      "Requirement already satisfied: grpcio~=1.32.0 in /Users/SHOTA/.pyenv/versions/anaconda3-5.3.1/lib/python3.7/site-packages (from tensorflow==2.4.0) (1.32.0)\n",
      "Requirement already satisfied: flatbuffers~=1.12.0 in /Users/SHOTA/.pyenv/versions/anaconda3-5.3.1/lib/python3.7/site-packages (from tensorflow==2.4.0) (1.12)\n",
      "Requirement already satisfied: google-pasta~=0.2 in /Users/SHOTA/.pyenv/versions/anaconda3-5.3.1/lib/python3.7/site-packages (from tensorflow==2.4.0) (0.2.0)\n",
      "Requirement already satisfied: opt-einsum~=3.3.0 in /Users/SHOTA/.pyenv/versions/anaconda3-5.3.1/lib/python3.7/site-packages (from tensorflow==2.4.0) (3.3.0)\n",
      "Requirement already satisfied: absl-py~=0.10 in /Users/SHOTA/.pyenv/versions/anaconda3-5.3.1/lib/python3.7/site-packages (from tensorflow==2.4.0) (0.11.0)\n",
      "Requirement already satisfied: protobuf>=3.9.2 in /Users/SHOTA/.pyenv/versions/anaconda3-5.3.1/lib/python3.7/site-packages (from tensorflow==2.4.0) (3.13.0)\n",
      "Requirement already satisfied: keras-preprocessing~=1.1.2 in /Users/SHOTA/.pyenv/versions/anaconda3-5.3.1/lib/python3.7/site-packages (from tensorflow==2.4.0) (1.1.2)\n",
      "Requirement already satisfied: six~=1.15.0 in /Users/SHOTA/.pyenv/versions/anaconda3-5.3.1/lib/python3.7/site-packages (from tensorflow==2.4.0) (1.15.0)\n",
      "Requirement already satisfied: typing-extensions~=3.7.4 in /Users/SHOTA/.pyenv/versions/anaconda3-5.3.1/lib/python3.7/site-packages (from tensorflow==2.4.0) (3.7.4.3)\n",
      "Requirement already satisfied: h5py~=2.10.0 in /Users/SHOTA/.pyenv/versions/anaconda3-5.3.1/lib/python3.7/site-packages (from tensorflow==2.4.0) (2.10.0)\n",
      "Requirement already satisfied: numpy~=1.19.2 in /Users/SHOTA/.pyenv/versions/anaconda3-5.3.1/lib/python3.7/site-packages (from tensorflow==2.4.0) (1.19.5)\n",
      "Requirement already satisfied: astunparse~=1.6.3 in /Users/SHOTA/.pyenv/versions/anaconda3-5.3.1/lib/python3.7/site-packages (from tensorflow==2.4.0) (1.6.3)\n",
      "Requirement already satisfied: tensorflow-estimator<2.5.0,>=2.4.0rc0 in /Users/SHOTA/.pyenv/versions/anaconda3-5.3.1/lib/python3.7/site-packages (from tensorflow==2.4.0) (2.4.0)\n",
      "Requirement already satisfied: wheel~=0.35 in /Users/SHOTA/.pyenv/versions/anaconda3-5.3.1/lib/python3.7/site-packages (from tensorflow==2.4.0) (0.35.1)\n",
      "Requirement already satisfied: setuptools in /Users/SHOTA/.pyenv/versions/anaconda3-5.3.1/lib/python3.7/site-packages (from protobuf>=3.9.2->tensorflow==2.4.0) (50.3.0.post20201006)\n",
      "Requirement already satisfied: requests<3,>=2.21.0 in /Users/SHOTA/.pyenv/versions/anaconda3-5.3.1/lib/python3.7/site-packages (from tensorboard~=2.4->tensorflow==2.4.0) (2.24.0)\n",
      "Requirement already satisfied: tensorboard-plugin-wit>=1.6.0 in /Users/SHOTA/.pyenv/versions/anaconda3-5.3.1/lib/python3.7/site-packages (from tensorboard~=2.4->tensorflow==2.4.0) (1.7.0)\n",
      "Requirement already satisfied: google-auth-oauthlib<0.5,>=0.4.1 in /Users/SHOTA/.pyenv/versions/anaconda3-5.3.1/lib/python3.7/site-packages (from tensorboard~=2.4->tensorflow==2.4.0) (0.4.2)\n",
      "Requirement already satisfied: werkzeug>=0.11.15 in /Users/SHOTA/.pyenv/versions/anaconda3-5.3.1/lib/python3.7/site-packages (from tensorboard~=2.4->tensorflow==2.4.0) (1.0.1)\n",
      "Requirement already satisfied: google-auth<2,>=1.6.3 in /Users/SHOTA/.pyenv/versions/anaconda3-5.3.1/lib/python3.7/site-packages (from tensorboard~=2.4->tensorflow==2.4.0) (1.23.0)\n",
      "Requirement already satisfied: markdown>=2.6.8 in /Users/SHOTA/.pyenv/versions/anaconda3-5.3.1/lib/python3.7/site-packages (from tensorboard~=2.4->tensorflow==2.4.0) (3.3.3)\n",
      "Requirement already satisfied: pyasn1-modules>=0.2.1 in /Users/SHOTA/.pyenv/versions/anaconda3-5.3.1/lib/python3.7/site-packages (from google-auth<2,>=1.6.3->tensorboard~=2.4->tensorflow==2.4.0) (0.2.8)\n",
      "Requirement already satisfied: rsa<5,>=3.1.4 in /Users/SHOTA/.pyenv/versions/anaconda3-5.3.1/lib/python3.7/site-packages (from google-auth<2,>=1.6.3->tensorboard~=2.4->tensorflow==2.4.0) (4.6)\n",
      "Requirement already satisfied: cachetools<5.0,>=2.0.0 in /Users/SHOTA/.pyenv/versions/anaconda3-5.3.1/lib/python3.7/site-packages (from google-auth<2,>=1.6.3->tensorboard~=2.4->tensorflow==2.4.0) (4.1.1)\n",
      "Requirement already satisfied: requests-oauthlib>=0.7.0 in /Users/SHOTA/.pyenv/versions/anaconda3-5.3.1/lib/python3.7/site-packages (from google-auth-oauthlib<0.5,>=0.4.1->tensorboard~=2.4->tensorflow==2.4.0) (1.3.0)\n",
      "Requirement already satisfied: importlib-metadata in /Users/SHOTA/.pyenv/versions/anaconda3-5.3.1/lib/python3.7/site-packages (from markdown>=2.6.8->tensorboard~=2.4->tensorflow==2.4.0) (2.0.0)\n",
      "Requirement already satisfied: pyasn1<0.5.0,>=0.4.6 in /Users/SHOTA/.pyenv/versions/anaconda3-5.3.1/lib/python3.7/site-packages (from pyasn1-modules>=0.2.1->google-auth<2,>=1.6.3->tensorboard~=2.4->tensorflow==2.4.0) (0.4.8)\n",
      "Requirement already satisfied: urllib3!=1.25.0,!=1.25.1,<1.26,>=1.21.1 in /Users/SHOTA/.pyenv/versions/anaconda3-5.3.1/lib/python3.7/site-packages (from requests<3,>=2.21.0->tensorboard~=2.4->tensorflow==2.4.0) (1.25.10)\n",
      "Requirement already satisfied: certifi>=2017.4.17 in /Users/SHOTA/.pyenv/versions/anaconda3-5.3.1/lib/python3.7/site-packages (from requests<3,>=2.21.0->tensorboard~=2.4->tensorflow==2.4.0) (2020.11.8)\n",
      "Requirement already satisfied: idna<3,>=2.5 in /Users/SHOTA/.pyenv/versions/anaconda3-5.3.1/lib/python3.7/site-packages (from requests<3,>=2.21.0->tensorboard~=2.4->tensorflow==2.4.0) (2.10)\n",
      "Requirement already satisfied: chardet<4,>=3.0.2 in /Users/SHOTA/.pyenv/versions/anaconda3-5.3.1/lib/python3.7/site-packages (from requests<3,>=2.21.0->tensorboard~=2.4->tensorflow==2.4.0) (3.0.4)\n",
      "Requirement already satisfied: oauthlib>=3.0.0 in /Users/SHOTA/.pyenv/versions/anaconda3-5.3.1/lib/python3.7/site-packages (from requests-oauthlib>=0.7.0->google-auth-oauthlib<0.5,>=0.4.1->tensorboard~=2.4->tensorflow==2.4.0) (3.1.0)\n",
      "Requirement already satisfied: zipp>=0.5 in /Users/SHOTA/.pyenv/versions/anaconda3-5.3.1/lib/python3.7/site-packages (from importlib-metadata->markdown>=2.6.8->tensorboard~=2.4->tensorflow==2.4.0) (3.3.0)\n",
      "Note: you may need to restart the kernel to use updated packages.\n"
     ]
    }
   ],
   "source": [
    "pip install tensorflow==2.4.0"
   ]
  },
  {
   "cell_type": "code",
   "execution_count": 4,
   "metadata": {
    "ExecuteTime": {
     "end_time": "2021-04-21T15:44:34.875733Z",
     "start_time": "2021-04-21T15:44:29.630425Z"
    }
   },
   "outputs": [
    {
     "ename": "ModuleNotFoundError",
     "evalue": "No module named 'saliency.core'",
     "output_type": "error",
     "traceback": [
      "\u001b[0;31m---------------------------------------------------------------------------\u001b[0m",
      "\u001b[0;31mModuleNotFoundError\u001b[0m                       Traceback (most recent call last)",
      "\u001b[0;32m<ipython-input-4-52b59964639d>\u001b[0m in \u001b[0;36m<module>\u001b[0;34m\u001b[0m\n\u001b[1;32m      6\u001b[0m \u001b[0;34m\u001b[0m\u001b[0m\n\u001b[1;32m      7\u001b[0m \u001b[0;31m# From our repository.\u001b[0m\u001b[0;34m\u001b[0m\u001b[0;34m\u001b[0m\u001b[0;34m\u001b[0m\u001b[0m\n\u001b[0;32m----> 8\u001b[0;31m \u001b[0;32mimport\u001b[0m \u001b[0msaliency\u001b[0m\u001b[0;34m.\u001b[0m\u001b[0mcore\u001b[0m \u001b[0;32mas\u001b[0m \u001b[0msaliency\u001b[0m\u001b[0;34m\u001b[0m\u001b[0;34m\u001b[0m\u001b[0m\n\u001b[0m\u001b[1;32m      9\u001b[0m \u001b[0;34m\u001b[0m\u001b[0m\n\u001b[1;32m     10\u001b[0m \u001b[0mget_ipython\u001b[0m\u001b[0;34m(\u001b[0m\u001b[0;34m)\u001b[0m\u001b[0;34m.\u001b[0m\u001b[0mrun_line_magic\u001b[0m\u001b[0;34m(\u001b[0m\u001b[0;34m'matplotlib'\u001b[0m\u001b[0;34m,\u001b[0m \u001b[0;34m'inline'\u001b[0m\u001b[0;34m)\u001b[0m\u001b[0;34m\u001b[0m\u001b[0;34m\u001b[0m\u001b[0m\n",
      "\u001b[0;31mModuleNotFoundError\u001b[0m: No module named 'saliency.core'"
     ]
    }
   ],
   "source": [
    "# Boilerplate imports.\n",
    "import tensorflow as tf\n",
    "import numpy as np\n",
    "import PIL.Image\n",
    "from matplotlib import pylab as P\n",
    "\n",
    "# From our repository.\n",
    "import saliency.core as saliency\n",
    "\n",
    "%matplotlib inline"
   ]
  },
  {
   "cell_type": "markdown",
   "metadata": {},
   "source": [
    "### Utility methods"
   ]
  },
  {
   "cell_type": "code",
   "execution_count": null,
   "metadata": {},
   "outputs": [],
   "source": [
    "# Boilerplate methods.\n",
    "def ShowImage(im, title='', ax=None):\n",
    "  if ax is None:\n",
    "    P.figure()\n",
    "  P.axis('off')\n",
    "  P.imshow(im)\n",
    "  P.title(title)\n",
    "\n",
    "def ShowGrayscaleImage(im, title='', ax=None):\n",
    "  if ax is None:\n",
    "    P.figure()\n",
    "  P.axis('off')\n",
    "\n",
    "  P.imshow(im, cmap=P.cm.gray, vmin=0, vmax=1)\n",
    "  P.title(title)\n",
    "\n",
    "def ShowHeatMap(im, title, ax=None):\n",
    "  if ax is None:\n",
    "    P.figure()\n",
    "  P.axis('off')\n",
    "  P.imshow(im, cmap='inferno')\n",
    "  P.title(title)\n",
    "\n",
    "def ShowDivergingImage(grad, title='', percentile=99, ax=None):  \n",
    "  if ax is None:\n",
    "    fig, ax = P.subplots()\n",
    "  else:\n",
    "    fig = ax.figure\n",
    "  \n",
    "  P.axis('off')\n",
    "  divider = make_axes_locatable(ax)\n",
    "  cax = divider.append_axes('right', size='5%', pad=0.05)\n",
    "  im = ax.imshow(grad, cmap=P.cm.coolwarm, vmin=-1, vmax=1)\n",
    "  fig.colorbar(im, cax=cax, orientation='vertical')\n",
    "  P.title(title)\n",
    "\n",
    "def LoadImage(file_path):\n",
    "  im = PIL.Image.open(file_path)\n",
    "  im = im.resize((224,224))\n",
    "  im = np.asarray(im)\n",
    "  return im\n",
    "\n",
    "def PreprocessImage(im):\n",
    "  im = tf.keras.applications.vgg16.preprocess_input(im)\n",
    "  return im"
   ]
  },
  {
   "cell_type": "markdown",
   "metadata": {},
   "source": [
    "### Loading the VGG16 model for ImageNet"
   ]
  },
  {
   "cell_type": "code",
   "execution_count": null,
   "metadata": {},
   "outputs": [],
   "source": [
    "m = tf.keras.applications.vgg16.VGG16(weights='imagenet', include_top=True)\n",
    "conv_layer = m.get_layer('block5_conv3')\n",
    "model = tf.keras.models.Model([m.inputs], [conv_layer.output, m.output])"
   ]
  },
  {
   "cell_type": "markdown",
   "metadata": {},
   "source": [
    "call_model_function is how we pass inputs to our model and receive outputs necessary to computer saliency masks. The description of this method and necessary outputs is in the base CoreSaliency description, as well as separately for each method."
   ]
  },
  {
   "cell_type": "code",
   "execution_count": null,
   "metadata": {},
   "outputs": [],
   "source": [
    "class_idx_str = 'class_idx_str'\n",
    "def call_model_function(images, call_model_args=None, expected_keys=None):\n",
    "    target_class_idx =  call_model_args[class_idx_str]\n",
    "    images = tf.convert_to_tensor(images)\n",
    "    with tf.GradientTape() as tape:\n",
    "        if expected_keys==[saliency.base.INPUT_OUTPUT_GRADIENTS]:\n",
    "            tape.watch(images)\n",
    "            _, output_layer = model(images)\n",
    "            output_layer = output_layer[:,target_class_idx]\n",
    "            gradients = np.array(tape.gradient(output_layer, images))\n",
    "            return {saliency.base.INPUT_OUTPUT_GRADIENTS: gradients}\n",
    "        else:\n",
    "            conv_layer, output_layer = model(images)\n",
    "            gradients = np.array(tape.gradient(output_layer, conv_layer))\n",
    "            return {saliency.base.CONVOLUTION_LAYER_VALUES: conv_layer,\n",
    "                    saliency.base.CONVOLUTION_OUTPUT_GRADIENTS: gradients}"
   ]
  },
  {
   "cell_type": "markdown",
   "metadata": {},
   "source": [
    "## Load an image and infer"
   ]
  },
  {
   "cell_type": "code",
   "execution_count": null,
   "metadata": {},
   "outputs": [],
   "source": [
    "#画像のリサイズ\n",
    "\n",
    "from PIL import Image\n",
    "import matplotlib.pyplot as plt\n",
    "%matplotlib inline\n",
    "\n",
    "#画像の読み込み\n",
    "beautiful_view = Image.open(\"good_1_3AA.jpg\")\n",
    "\n",
    "#画像を表示して確認\n",
    "#plt.imshow(beautiful_view)\n",
    "\n",
    "#画像のリサイズ\n",
    "small_beautiful_view = beautiful_view.resize((299, 299))\n",
    "\n",
    "#リサイズした画像を表示して確認\n",
    "plt.imshow(small_beautiful_view)\n",
    "\n",
    "#リサイズした画像を名前をつけて保存\n",
    "small_beautiful_view.save(\"good_1_3AA_mini.jpg\")"
   ]
  },
  {
   "cell_type": "code",
   "execution_count": null,
   "metadata": {},
   "outputs": [],
   "source": [
    "# Load the image\n",
    "im_orig = LoadImage('./good_1_3AA_mini.jpg')\n",
    "#print(im_orig)\n",
    "im = PreprocessImage(im_orig)\n",
    "#print(str(im))\n",
    "\n",
    "# Show the image\n",
    "ShowImage(im_orig)\n",
    "\n",
    "i, predictions = model(np.array([im]))\n",
    "#print(i)\n",
    "#print(predictions)\n",
    "prediction_class = np.argmax(predictions)#[0]\n",
    "call_model_args = {class_idx_str: prediction_class}\n",
    "#print(prediction_class)\n",
    "#print(call_model_args)\n",
    "\n",
    "print(\"Prediction class: \" + str(prediction_class))  # Should be a doberman, class idx = 236\n"
   ]
  },
  {
   "cell_type": "markdown",
   "metadata": {},
   "source": [
    "## XRAI Full and Fast"
   ]
  },
  {
   "cell_type": "code",
   "execution_count": null,
   "metadata": {},
   "outputs": [],
   "source": [
    "# Construct the saliency object. This alone doesn't do anthing.\n",
    "xrai_object = saliency.XRAI()\n",
    "\n",
    "# Compute XRAI attributions with default parameters\n",
    "xrai_attributions = xrai_object.GetMask(im, call_model_function, call_model_args, batch_size=20)\n",
    "\n",
    "# Set up matplot lib figures.\n",
    "ROWS = 1\n",
    "COLS = 3\n",
    "UPSCALE_FACTOR = 20\n",
    "P.figure(figsize=(ROWS * UPSCALE_FACTOR, COLS * UPSCALE_FACTOR))\n",
    "\n",
    "# Show original image\n",
    "ShowImage(im_orig, title='Original Image', ax=P.subplot(ROWS, COLS, 1))\n",
    "\n",
    "# Show XRAI heatmap attributions\n",
    "ShowHeatMap(xrai_attributions, title='XRAI Heatmap', ax=P.subplot(ROWS, COLS, 2))\n",
    "\n",
    "# Show most salient 30% of the image\n",
    "mask = xrai_attributions > np.percentile(xrai_attributions, 70)\n",
    "im_mask = np.array(im_orig)\n",
    "im_mask[~mask] = 0\n",
    "ShowImage(im_mask, title='Top 30%', ax=P.subplot(ROWS, COLS, 3))\n"
   ]
  },
  {
   "cell_type": "code",
   "execution_count": null,
   "metadata": {},
   "outputs": [],
   "source": [
    "# Create XRAIParameters and set the algorithm to fast mode which will produce an approximate result.\n",
    "xrai_params = saliency.XRAIParameters()\n",
    "xrai_params.algorithm = 'fast'\n",
    "\n",
    "# Compute XRAI attributions with fast algorithm\n",
    "xrai_attributions_fast = xrai_object.GetMask(im, call_model_function, call_model_args, extra_parameters=xrai_params, batch_size=20)\n",
    "\n",
    "# Set up matplot lib figures.\n",
    "ROWS = 1\n",
    "COLS = 3\n",
    "UPSCALE_FACTOR = 20\n",
    "P.figure(figsize=(ROWS * UPSCALE_FACTOR, COLS * UPSCALE_FACTOR))\n",
    "\n",
    "# Show original image\n",
    "ShowImage(im_orig, title='Original Image', ax=P.subplot(ROWS, COLS, 1))\n",
    "\n",
    "# Show XRAI heatmap attributions\n",
    "ShowHeatMap(xrai_attributions_fast, title='XRAI Heatmap', ax=P.subplot(ROWS, COLS, 2))\n",
    "\n",
    "# Show most salient 30% of the image\n",
    "mask = xrai_attributions_fast > np.percentile(xrai_attributions_fast, 70)\n",
    "im_mask = np.array(im_orig)\n",
    "im_mask[~mask] = 0\n",
    "ShowImage(im_mask, 'Top 30%', ax=P.subplot(ROWS, COLS, 3))"
   ]
  }
 ],
 "metadata": {
  "kernelspec": {
   "display_name": "Python 3",
   "language": "python",
   "name": "python3"
  },
  "language_info": {
   "codemirror_mode": {
    "name": "ipython",
    "version": 3
   },
   "file_extension": ".py",
   "mimetype": "text/x-python",
   "name": "python",
   "nbconvert_exporter": "python",
   "pygments_lexer": "ipython3",
   "version": "3.7.2"
  },
  "nbTranslate": {
   "displayLangs": [
    "*"
   ],
   "hotkey": "alt-t",
   "langInMainMenu": true,
   "sourceLang": "en",
   "targetLang": "fr",
   "useGoogleTranslate": true
  },
  "toc": {
   "base_numbering": 1,
   "nav_menu": {},
   "number_sections": true,
   "sideBar": true,
   "skip_h1_title": false,
   "title_cell": "Table of Contents",
   "title_sidebar": "Contents",
   "toc_cell": false,
   "toc_position": {},
   "toc_section_display": true,
   "toc_window_display": false
  },
  "varInspector": {
   "cols": {
    "lenName": 16,
    "lenType": 16,
    "lenVar": 40
   },
   "kernels_config": {
    "python": {
     "delete_cmd_postfix": "",
     "delete_cmd_prefix": "del ",
     "library": "var_list.py",
     "varRefreshCmd": "print(var_dic_list())"
    },
    "r": {
     "delete_cmd_postfix": ") ",
     "delete_cmd_prefix": "rm(",
     "library": "var_list.r",
     "varRefreshCmd": "cat(var_dic_list()) "
    }
   },
   "types_to_exclude": [
    "module",
    "function",
    "builtin_function_or_method",
    "instance",
    "_Feature"
   ],
   "window_display": false
  }
 },
 "nbformat": 4,
 "nbformat_minor": 2
}
